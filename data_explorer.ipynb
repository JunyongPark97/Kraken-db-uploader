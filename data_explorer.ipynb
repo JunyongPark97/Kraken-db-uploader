{
 "cells": [
  {
   "cell_type": "code",
   "execution_count": 1,
   "metadata": {},
   "outputs": [],
   "source": [
    "import django\n",
    "import os\n",
    "import json\n",
    "import os.path"
   ]
  },
  {
   "cell_type": "code",
   "execution_count": 2,
   "metadata": {},
   "outputs": [],
   "source": [
    "os.environ['DJANGO_SETTINGS_MODULE'] = 'django_settings'\n",
    "os.environ[\"DJANGO_ALLOW_ASYNC_UNSAFE\"] = \"true\"\n",
    "django.setup()"
   ]
  },
  {
   "cell_type": "code",
   "execution_count": 52,
   "metadata": {},
   "outputs": [],
   "source": [
    "import pandas as pd\n",
    "from kraken.models import *\n",
    "from django.db.models import F"
   ]
  },
  {
   "cell_type": "code",
   "execution_count": 19,
   "metadata": {},
   "outputs": [],
   "source": [
    "url = 'https://kraken-storages.s3.ap-northeast-2.amazonaws.com/media/'"
   ]
  },
  {
   "cell_type": "code",
   "execution_count": 95,
   "metadata": {},
   "outputs": [],
   "source": [
    "datasets = Dataset.objects.filter(sizes__isnull=False, clothes_pictures__isnull=False, wearing_pictures__isnull=False)"
   ]
  },
  {
   "cell_type": "code",
   "execution_count": 96,
   "metadata": {},
   "outputs": [
    {
     "data": {
      "text/plain": [
       "294"
      ]
     },
     "execution_count": 96,
     "metadata": {},
     "output_type": "execute_result"
    }
   ],
   "source": [
    "datasets.count()"
   ]
  },
  {
   "cell_type": "code",
   "execution_count": 180,
   "metadata": {},
   "outputs": [],
   "source": [
    "size_columns = SizeFeatures.objects.filter(is_active=True).order_by('order').values_list('name',flat=True)\n",
    "clothes_columns = ClothesFeatures.objects.filter(is_active=True).order_by('order').values_list('name',flat=True)\n",
    "wearing_columns = WearingFeatures.objects.filter(is_active=True).order_by('order').values_list('name',flat=True)"
   ]
  },
  {
   "cell_type": "code",
   "execution_count": 98,
   "metadata": {},
   "outputs": [],
   "source": [
    "df_index = []\n",
    "\n",
    "for q in datasets:\n",
    "    df_index.append(q.id)"
   ]
  },
  {
   "cell_type": "code",
   "execution_count": 185,
   "metadata": {},
   "outputs": [],
   "source": [
    "sizes_column = list(size_columns)\n",
    "clothes_column = list(clothes_columns)\n",
    "wearing_column = ['w_'+x for x in wearing_columns]\n",
    "\n",
    "df_column = sizes_column + clothes_column + wearing_column"
   ]
  },
  {
   "cell_type": "code",
   "execution_count": 100,
   "metadata": {},
   "outputs": [],
   "source": [
    "df_data =[]\n",
    "for q in datasets:\n",
    "    size = Size.objects.get(dataset=q)\n",
    "    clothes = ClothesPicture.objects.get(dataset=q)\n",
    "    wearing = WearingPicture.objects.get(dataset=q)\n",
    "    \n",
    "    sizes = list(size.tags.all().values_list('value',flat=True))\n",
    "    clothestags = [url+x for x in list(clothes.tags.all().values_list('picture', flat=True))]\n",
    "    wearingtags = [url+x for x in list(wearing.tags.all().values_list('picture', flat=True))]\n",
    "    \n",
    "    data = sizes + clothestags + wearingtags\n",
    "    df_data.append(data)"
   ]
  },
  {
   "cell_type": "code",
   "execution_count": 189,
   "metadata": {
    "scrolled": false
   },
   "outputs": [],
   "source": [
    "df = pd.DataFrame(df_data, index=df_index, columns=df_column)"
   ]
  },
  {
   "cell_type": "code",
   "execution_count": 192,
   "metadata": {},
   "outputs": [],
   "source": [
    "df.to_pickle('mondeique_virtual_fitting_v0.pickle')"
   ]
  },
  {
   "cell_type": "code",
   "execution_count": 193,
   "metadata": {},
   "outputs": [],
   "source": [
    "new_df = pd.read_pickle('mondeique_virtual_fitting_v0.pickle')"
   ]
  },
  {
   "cell_type": "code",
   "execution_count": null,
   "metadata": {},
   "outputs": [],
   "source": []
  }
 ],
 "metadata": {
  "kernelspec": {
   "display_name": "Python 3",
   "language": "python",
   "name": "python3"
  },
  "language_info": {
   "codemirror_mode": {
    "name": "ipython",
    "version": 3
   },
   "file_extension": ".py",
   "mimetype": "text/x-python",
   "name": "python",
   "nbconvert_exporter": "python",
   "pygments_lexer": "ipython3",
   "version": "3.7.6"
  }
 },
 "nbformat": 4,
 "nbformat_minor": 4
}
