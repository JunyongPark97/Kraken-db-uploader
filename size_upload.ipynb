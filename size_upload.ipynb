{
 "cells": [
  {
   "cell_type": "code",
   "execution_count": 1,
   "metadata": {},
   "outputs": [],
   "source": [
    "import django\n",
    "import os\n",
    "import json\n",
    "import os.path"
   ]
  },
  {
   "cell_type": "code",
   "execution_count": 2,
   "metadata": {},
   "outputs": [],
   "source": [
    "os.environ['DJANGO_SETTINGS_MODULE'] = 'django_settings'\n",
    "os.environ[\"DJANGO_ALLOW_ASYNC_UNSAFE\"] = \"true\"\n",
    "django.setup()"
   ]
  },
  {
   "cell_type": "code",
   "execution_count": 3,
   "metadata": {},
   "outputs": [],
   "source": [
    "from boto3.session import Session\n",
    "import boto3\n",
    "import botocore\n",
    "from loader import load_credential\n",
    "import random\n",
    "import string\n",
    "from PIL import Image\n",
    "from PIL import ExifTags\n",
    "from io import BytesIO\n",
    "from django.core.files.uploadedfile import InMemoryUploadedFile\n",
    "import natsort\n",
    "import csv"
   ]
  },
  {
   "cell_type": "code",
   "execution_count": 4,
   "metadata": {},
   "outputs": [],
   "source": [
    "######### upload Clothes Image to S3 #########\n",
    "\n",
    "from kraken.models import *"
   ]
  },
  {
   "cell_type": "code",
   "execution_count": 5,
   "metadata": {},
   "outputs": [],
   "source": [
    "excel_data_path = os.getenv('HOME') +'/Desktop/picture_data/size.csv'"
   ]
  },
  {
   "cell_type": "code",
   "execution_count": 6,
   "metadata": {
    "scrolled": true
   },
   "outputs": [],
   "source": [
    "seodaemun = []\n",
    "header = []\n",
    "rownum = 0\n",
    "a=[]\n",
    "with open(excel_data_path, 'r', encoding='utf-8') as f:\n",
    "    csv_data = csv.reader(f)\n",
    "    \n",
    "    for row in csv_data:\n",
    "        if rownum == 0:\n",
    "            header = row\n",
    "        else:\n",
    "            a.append(row)\n",
    "        rownum +=1"
   ]
  },
  {
   "cell_type": "code",
   "execution_count": 7,
   "metadata": {
    "scrolled": true
   },
   "outputs": [],
   "source": [
    "all_data = {}\n",
    "for data in a:\n",
    "    d_id = data[0]\n",
    "    old_file_name = d_id + ' (1).jpg'\n",
    "    string = ''\n",
    "    new = {}\n",
    "    \n",
    "    for index, value in enumerate(data):\n",
    "        if index == 0:\n",
    "            pass\n",
    "        elif index == 1:\n",
    "            new['total'] = float(value)\n",
    "        elif index == 2:\n",
    "            new['chest_cross_section'] = float(value)\n",
    "        elif index == 3:\n",
    "            new['bottom_cross_section'] = float(value)\n",
    "        elif index == 4:\n",
    "            new['sleeve'] = float(value)\n",
    "        elif index == 5:\n",
    "            new['shoulder_cross_section'] = float(value)\n",
    "        elif index == 6:\n",
    "            new['sleeve_cross_section'] = float(value)\n",
    "        elif index == 7:\n",
    "            new['neck_cross_section'] = float(value)\n",
    "        elif index == 8: # color\n",
    "            new['color'] = value\n",
    "        elif index == 11: # spread\n",
    "            if value:\n",
    "                new['spread'] = True\n",
    "        else:\n",
    "            if value:\n",
    "                string += value\n",
    "    new['old_name'] = string\n",
    "    all_data[old_file_name]=new"
   ]
  },
  {
   "cell_type": "code",
   "execution_count": null,
   "metadata": {},
   "outputs": [],
   "source": [
    "all_data"
   ]
  },
  {
   "cell_type": "code",
   "execution_count": 1,
   "metadata": {},
   "outputs": [],
   "source": [
    "# UPLOAD CODE"
   ]
  },
  {
   "cell_type": "code",
   "execution_count": null,
   "metadata": {},
   "outputs": [],
   "source": [
    "active_version = DataVersion.objects.get(is_active=True)\n",
    "for key in all_data:\n",
    "    old_file_name = key\n",
    "    dataset = Dataset.objects.get(old_file_name=old_file_name)\n",
    "    size_data, _ = Size.objects.get_or_create(version=active_version, dataset=dataset)\n",
    "    remark_data = {}\n",
    "    for feature in all_data[key]:\n",
    "        if not feature in ['color', 'spread', 'old_name']:\n",
    "            n_feature = SizeFeatures.objects.get(name=feature)\n",
    "            value = all_data[key][feature]\n",
    "            SizeTag.objects.create(size_data=size_data, features=n_feature, value=value)\n",
    "        elif feature in ['color', 'spread']:\n",
    "            remark_data[feature]=all_data[key][feature]\n",
    "        elif feature == 'old_name':\n",
    "            dataset.old_name = all_data[key][feature]\n",
    "            dataset.save()\n",
    "    if remark_data:\n",
    "        RemarkTag.objects.create(dataset=dataset, **remark_data)"
   ]
  }
 ],
 "metadata": {
  "kernelspec": {
   "display_name": "Python 3",
   "language": "python",
   "name": "python3"
  },
  "language_info": {
   "codemirror_mode": {
    "name": "ipython",
    "version": 3
   },
   "file_extension": ".py",
   "mimetype": "text/x-python",
   "name": "python",
   "nbconvert_exporter": "python",
   "pygments_lexer": "ipython3",
   "version": "3.7.6"
  }
 },
 "nbformat": 4,
 "nbformat_minor": 4
}
