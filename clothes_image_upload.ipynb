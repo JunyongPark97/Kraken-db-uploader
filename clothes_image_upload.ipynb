{
 "cells": [
  {
   "cell_type": "code",
   "execution_count": 1,
   "metadata": {},
   "outputs": [],
   "source": [
    "import django\n",
    "import os\n",
    "import json\n",
    "import os.path"
   ]
  },
  {
   "cell_type": "code",
   "execution_count": 2,
   "metadata": {},
   "outputs": [],
   "source": [
    "os.environ['DJANGO_SETTINGS_MODULE'] = 'django_settings'\n",
    "os.environ[\"DJANGO_ALLOW_ASYNC_UNSAFE\"] = \"true\"\n",
    "django.setup()"
   ]
  },
  {
   "cell_type": "code",
   "execution_count": 3,
   "metadata": {},
   "outputs": [],
   "source": [
    "from boto3.session import Session\n",
    "import boto3\n",
    "import botocore\n",
    "from loader import load_credential\n",
    "import random\n",
    "import string\n",
    "from PIL import Image\n",
    "from PIL import ExifTags\n",
    "from io import BytesIO\n",
    "from django.core.files.uploadedfile import InMemoryUploadedFile\n",
    "import natsort"
   ]
  },
  {
   "cell_type": "code",
   "execution_count": 4,
   "metadata": {},
   "outputs": [],
   "source": [
    "######### upload Clothes Image to S3 #########\n",
    "\n",
    "from kraken.models import *"
   ]
  },
  {
   "cell_type": "code",
   "execution_count": 5,
   "metadata": {},
   "outputs": [],
   "source": [
    "clothes_path = os.getenv('HOME') +'/Desktop/picture_data/clothes'\n",
    "clothes_file_folder = os.listdir(clothes_path)\n",
    "clothes_sorted_folder = natsort.natsorted(clothes_file_folder,reverse=False) # USE This!"
   ]
  },
  {
   "cell_type": "code",
   "execution_count": 5,
   "metadata": {},
   "outputs": [],
   "source": [
    "def data_align(folder):\n",
    "    \"\"\"\n",
    "    data 정렬하는 함수힙니다.\n",
    "    ['1 (1).jpg', '1 (2).jpg']  ==>  {1: ['1 (1).jpg', '1 (2).jpg' ...], 2: ['2 (1).jpg'...] ...}\n",
    "    \"\"\"\n",
    "    clothes_dict = {}\n",
    "    k = 0\n",
    "    data =[]\n",
    "    for file in folder:\n",
    "        name = file.split('.')[0]\n",
    "        key = name.split(' ')[0]\n",
    "        if key == '':\n",
    "            break\n",
    "        key = int(key)\n",
    "        order = name.split(' ')[1].split('(')[1].split(')')[0]\n",
    "        if k != key:\n",
    "            data = []\n",
    "        k = key\n",
    "        data.append(file)\n",
    "        clothes_dict[key] = data\n",
    "    \n",
    "    return clothes_dict"
   ]
  },
  {
   "cell_type": "code",
   "execution_count": 6,
   "metadata": {},
   "outputs": [],
   "source": [
    "def ratate_image(image):\n",
    "    \"\"\"\n",
    "    이미지 저장 시 회전되는 문제를 해결하기 위해 사용합니다.\n",
    "    \"\"\"\n",
    "    for orientation in ExifTags.TAGS.keys():\n",
    "        if ExifTags.TAGS[orientation] == 'Orientation':\n",
    "            break\n",
    "            \n",
    "    exif = dict(image._getexif().items())\n",
    "    \n",
    "    if orientation in exif:\n",
    "        \n",
    "        if exif[orientation] == 3:\n",
    "            image = image.rotate(180, expand=True)\n",
    "        elif exif[orientation] == 6:\n",
    "            image = image.rotate(270, expand=True)\n",
    "        elif exif[orientation] == 8:\n",
    "            image = image.rotate(90, expand=True)\n",
    "        \n",
    "    output = BytesIO()\n",
    "    image.save(output, \"JPEG\")\n",
    "    output.seek(0)\n",
    "    \n",
    "    return image, output"
   ]
  },
  {
   "cell_type": "code",
   "execution_count": 7,
   "metadata": {},
   "outputs": [],
   "source": [
    "def save_clothes_image(aligned_data, path):\n",
    "    \n",
    "    kind_of = KindOf.objects.get(kinds='short_sleeve')\n",
    "    active_version = DataVersion.objects.get(is_active=True)\n",
    "    \n",
    "    for filename in aligned_data:\n",
    "        \n",
    "        # tag 를 저장하기 위한 picture data 와 dataset\n",
    "        old_file_name = '{} (1).jpg'.format(filename)\n",
    "        dataset = Dataset.objects.create(kind_of=kind_of, old_file_name=old_file_name)\n",
    "        picture_data = ClothesPicture.objects.create(version=active_version, dataset=dataset)\n",
    "        \n",
    "        print('===============')\n",
    "        print('{} 번째 dataset 생성'.format(filename))\n",
    "        print('===============')\n",
    "\n",
    "\n",
    "        feature_id = 1\n",
    "        for filename in aligned_data[filename]:\n",
    "            feature = ClothesFeatures.objects.get(id=feature_id)\n",
    "            \n",
    "            byteImg = Image.open(os.path.join(path, filename))\n",
    "            \n",
    "            rotated_image, byteIO = ratate_image(byteImg)\n",
    "            \n",
    "            picture= InMemoryUploadedFile(byteIO, None, 'picture.jpg', 'image/jpeg', len(byteIO.getvalue()), None)\n",
    "            \n",
    "            ClothesPictureTag.objects.create(picture_data=picture_data, features=feature, picture=picture)\n",
    "            \n",
    "            feature_id += 1\n",
    "            \n",
    "            print('{} 생성완료'.format(feature))\n",
    "    \n",
    "    print('======END=======')\n",
    "    print('데이터 업로드 완료')"
   ]
  },
  {
   "cell_type": "code",
   "execution_count": 9,
   "metadata": {
    "scrolled": false
   },
   "outputs": [],
   "source": [
    "aligned_data = data_align(clothes_sorted_folder)"
   ]
  },
  {
   "cell_type": "code",
   "execution_count": null,
   "metadata": {},
   "outputs": [],
   "source": [
    "# save_clothes_image(aligned_data, clothes_path)"
   ]
  },
  {
   "cell_type": "code",
   "execution_count": null,
   "metadata": {},
   "outputs": [],
   "source": []
  },
  {
   "cell_type": "code",
   "execution_count": 9,
   "metadata": {},
   "outputs": [],
   "source": [
    "######### upload Wearing Image to S3 #########"
   ]
  },
  {
   "cell_type": "code",
   "execution_count": 10,
   "metadata": {},
   "outputs": [],
   "source": [
    "wearing_path = os.getenv('HOME') +'/Desktop/picture_data/wearing'\n",
    "wearing_file_folder = os.listdir(wearing_path)\n",
    "wearing_sorted_folder = natsort.natsorted(wearing_file_folder,reverse=False) # USE This!"
   ]
  },
  {
   "cell_type": "code",
   "execution_count": 18,
   "metadata": {},
   "outputs": [],
   "source": [
    "def save_wearing_image(aligned_data, path):\n",
    "    \n",
    "    kind_of = KindOf.objects.get(kinds='short_sleeve')\n",
    "    active_version = DataVersion.objects.get(is_active=True)\n",
    "    \n",
    "    for filename in aligned_data:\n",
    "        \n",
    "        # tag 를 저장하기 위한 picture data 와 dataset\n",
    "        old_file_name = '{} (1).jpg'.format(filename)\n",
    "        dataset = Dataset.objects.get(old_file_name=old_file_name)\n",
    "        picture_data = WearingPicture.objects.create(version=active_version, dataset=dataset)\n",
    "        \n",
    "        print('===============')\n",
    "        print('{} 번째 dataset 생성'.format(filename))\n",
    "        print('===============')\n",
    "\n",
    "\n",
    "        feature_order = 0\n",
    "        for filename in aligned_data[filename]:\n",
    "            feature = WearingFeatures.objects.get(order=feature_order)\n",
    "            \n",
    "            byteImg = Image.open(os.path.join(path, filename))\n",
    "            \n",
    "            rotated_image, byteIO = ratate_image(byteImg)\n",
    "            \n",
    "            picture = InMemoryUploadedFile(byteIO, None, 'w_picture.jpg', 'image/jpeg', len(byteIO.getvalue()), None)\n",
    "            \n",
    "            WearingPictureTag.objects.create(picture_data=picture_data, features=feature, picture=picture)\n",
    "            \n",
    "            feature_order += 1\n",
    "            \n",
    "            print('{} 생성완료'.format(feature))\n",
    "    \n",
    "    print('======END=======')\n",
    "    print('데이터 업로드 완료')"
   ]
  },
  {
   "cell_type": "code",
   "execution_count": 19,
   "metadata": {},
   "outputs": [],
   "source": [
    "aligned_data = data_align(wearing_sorted_folder)"
   ]
  },
  {
   "cell_type": "code",
   "execution_count": null,
   "metadata": {},
   "outputs": [],
   "source": [
    "# save_wearing_image(aligned_data, wearing_path)"
   ]
  }
 ],
 "metadata": {
  "kernelspec": {
   "display_name": "Python 3",
   "language": "python",
   "name": "python3"
  },
  "language_info": {
   "codemirror_mode": {
    "name": "ipython",
    "version": 3
   },
   "file_extension": ".py",
   "mimetype": "text/x-python",
   "name": "python",
   "nbconvert_exporter": "python",
   "pygments_lexer": "ipython3",
   "version": "3.7.6"
  }
 },
 "nbformat": 4,
 "nbformat_minor": 4
}
