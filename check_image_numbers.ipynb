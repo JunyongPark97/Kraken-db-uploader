{
 "cells": [
  {
   "cell_type": "code",
   "execution_count": 44,
   "metadata": {},
   "outputs": [],
   "source": [
    "import os\n",
    "import os.path"
   ]
  },
  {
   "cell_type": "code",
   "execution_count": 53,
   "metadata": {},
   "outputs": [],
   "source": [
    "wearing_path = os.getenv('HOME') +'/Desktop/picture_data/wearing'\n",
    "clothes_path = os.getenv('HOME') +'/Desktop/picture_data/clothes'"
   ]
  },
  {
   "cell_type": "code",
   "execution_count": 54,
   "metadata": {},
   "outputs": [],
   "source": [
    "import natsort"
   ]
  },
  {
   "cell_type": "code",
   "execution_count": 55,
   "metadata": {
    "scrolled": true
   },
   "outputs": [],
   "source": [
    "wearing_file_folder = os.listdir(wearing_path)\n",
    "clothes_file_folder = os.listdir(clothes_path)\n",
    "\n",
    "wearing_sorted_folder = natsort.natsorted(wearing_file_folder,reverse=False)\n",
    "clothes_sorted_folder = natsort.natsorted(clothes_file_folder,reverse=False)"
   ]
  },
  {
   "cell_type": "code",
   "execution_count": 56,
   "metadata": {
    "scrolled": true
   },
   "outputs": [],
   "source": [
    "wearing_num4_list = []\n",
    "for file in wearing_sorted_folder:\n",
    "    file_order = file.split('.')[0].split(' ')[1]\n",
    "    if file_order == '(4)':\n",
    "        wearing_num4_list.append(file) "
   ]
  },
  {
   "cell_type": "code",
   "execution_count": 57,
   "metadata": {
    "scrolled": true
   },
   "outputs": [
    {
     "name": "stdout",
     "output_type": "stream",
     "text": [
      "0\n",
      "[]\n"
     ]
    }
   ],
   "source": [
    "count = 0\n",
    "wearing_error_list = []\n",
    "for file in wearing_num4_list:\n",
    "    file_order = file.split('.')[0].split(' ')[1].split('(')[1].split(')')[0]\n",
    "    if int(file_order) != 4:\n",
    "        wearing_error_list.append(file)\n",
    "        count += 1\n",
    "print(count)\n",
    "print(wearing_error_list)"
   ]
  },
  {
   "cell_type": "code",
   "execution_count": 78,
   "metadata": {
    "scrolled": true
   },
   "outputs": [],
   "source": [
    "clothes_dict = {}\n",
    "k = 0\n",
    "data =[]\n",
    "for file in clothes_sorted_folder:\n",
    "    name = file.split('.')[0]\n",
    "    key = int(name.split(' ')[0])\n",
    "    order = name.split(' ')[1].split('(')[1].split(')')[0]\n",
    "    if k != key:\n",
    "        data = []\n",
    "    k = key\n",
    "    data.append(name)\n",
    "    clothes_dict[key] = len(data)"
   ]
  },
  {
   "cell_type": "code",
   "execution_count": 77,
   "metadata": {},
   "outputs": [
    {
     "name": "stdout",
     "output_type": "stream",
     "text": [
      "11 /  4\n",
      "18 /  4\n"
     ]
    }
   ],
   "source": [
    "\n",
    "for index in clothes_dict:\n",
    "    count = int(clothes_dict[index])\n",
    "    if count != 6:\n",
    "        print(index, '/ ', count)"
   ]
  }
 ],
 "metadata": {
  "kernelspec": {
   "display_name": "Python 3",
   "language": "python",
   "name": "python3"
  },
  "language_info": {
   "codemirror_mode": {
    "name": "ipython",
    "version": 3
   },
   "file_extension": ".py",
   "mimetype": "text/x-python",
   "name": "python",
   "nbconvert_exporter": "python",
   "pygments_lexer": "ipython3",
   "version": "3.7.6"
  }
 },
 "nbformat": 4,
 "nbformat_minor": 4
}
